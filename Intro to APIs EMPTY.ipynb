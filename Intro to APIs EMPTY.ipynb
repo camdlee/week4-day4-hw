{
 "cells": [
  {
   "cell_type": "markdown",
   "id": "7196054f",
   "metadata": {},
   "source": [
    "# Working with APIs"
   ]
  },
  {
   "cell_type": "markdown",
   "id": "0547b71e",
   "metadata": {},
   "source": [
    "API stands for Application programming interface<br>\n",
    "APIs are a way for applications to talk to eachother<br>\n",
    "In python we use the requests package to handle the connection<br>\n",
    "<small><strong>Note: It is requests with an s not request(this is a different package)</strong></small><br>\n",
    "Most API's communicate with data in the form of JSON<br>\n",
    "JSON stands for JavaScript Object Notation"
   ]
  },
  {
   "cell_type": "markdown",
   "metadata": {},
   "source": []
  },
  {
   "attachments": {},
   "cell_type": "markdown",
   "id": "cc80a1f0",
   "metadata": {},
   "source": [
    "### importing requests module"
   ]
  },
  {
   "cell_type": "code",
   "execution_count": 26,
   "id": "4db9d154",
   "metadata": {},
   "outputs": [],
   "source": [
    "import requests"
   ]
  },
  {
   "cell_type": "markdown",
   "id": "e8c2ce51",
   "metadata": {},
   "source": [
    "We will be connecting to the Ergast F1 Racer API today:\n",
    "http://ergast.com/mrd/\n",
    "\n",
    "to view JSON data nicely in the Chrome browser install the extension JSONview"
   ]
  },
  {
   "cell_type": "code",
   "execution_count": null,
   "id": "52c440c6",
   "metadata": {},
   "outputs": [],
   "source": [
    "# Make sure to attach extension .json at the end of url\n",
    "url = 'https://ergast.com/api/f1/2008/5/driverStandings.json'"
   ]
  },
  {
   "attachments": {},
   "cell_type": "markdown",
   "id": "1f8dc8b3",
   "metadata": {},
   "source": [
    "### using the requests package to access data from api/url"
   ]
  },
  {
   "cell_type": "code",
   "execution_count": null,
   "id": "f60c1b4a",
   "metadata": {},
   "outputs": [],
   "source": [
    "response = requests.get(url)\n",
    "\n",
    "# 200 responses are good\n",
    "# 400 repsonses aren't good like 404 error\n",
    "# 500 responses are error on server end"
   ]
  },
  {
   "attachments": {},
   "cell_type": "markdown",
   "id": "52f840a9",
   "metadata": {},
   "source": [
    "### checking and making sure we got a successful response from our API\n",
    "#### status codes: 200 = ok/successful, 400 = bad/unsuccessful"
   ]
  },
  {
   "cell_type": "code",
   "execution_count": null,
   "id": "7b63a204",
   "metadata": {},
   "outputs": [],
   "source": [
    "response.ok\n",
    "response.status_code"
   ]
  },
  {
   "attachments": {},
   "cell_type": "markdown",
   "id": "bc3fa89d",
   "metadata": {},
   "source": [
    "### view the response as a JSON with .json()"
   ]
  },
  {
   "cell_type": "code",
   "execution_count": null,
   "id": "ed4d3256",
   "metadata": {},
   "outputs": [],
   "source": [
    "response.json()\n",
    "type(response.json())"
   ]
  },
  {
   "attachments": {},
   "cell_type": "markdown",
   "id": "3b49045f",
   "metadata": {},
   "source": [
    "### Get the Driver Standings Data from JSON"
   ]
  },
  {
   "cell_type": "code",
   "execution_count": null,
   "id": "f074dfcf",
   "metadata": {},
   "outputs": [],
   "source": [
    "driver_standings_data = response.json()['MRData']['StandingsTable']['StandingsLists'][0]['DriverStandings']"
   ]
  },
  {
   "attachments": {},
   "cell_type": "markdown",
   "id": "459823db",
   "metadata": {},
   "source": [
    "### Use a for loop to display all driver full names"
   ]
  },
  {
   "cell_type": "code",
   "execution_count": null,
   "id": "be46a950",
   "metadata": {},
   "outputs": [],
   "source": [
    "for driver in driver_standings_data:\n",
    "    print(driver['Driver']['givenName'], driver['Driver']['familyName'])"
   ]
  },
  {
   "attachments": {},
   "cell_type": "markdown",
   "id": "43c20f0d",
   "metadata": {},
   "source": [
    "### Create a function getting certain driver info (givenName, familyName, dateOfBirth, wins, team)"
   ]
  },
  {
   "cell_type": "code",
   "execution_count": 29,
   "id": "3740c752",
   "metadata": {},
   "outputs": [
    {
     "data": {
      "text/plain": [
       "[{'Kimi Räikkönen': {'DOB': '1979-10-17', 'wins': '2', 'team': 'Ferrari'}},\n",
       " {'Felipe Massa': {'DOB': '1981-04-25', 'wins': '2', 'team': 'Ferrari'}},\n",
       " {'Lewis Hamilton': {'DOB': '1985-01-07', 'wins': '1', 'team': 'McLaren'}},\n",
       " {'Robert Kubica': {'DOB': '1984-12-07', 'wins': '0', 'team': 'BMW Sauber'}},\n",
       " {'Nick Heidfeld': {'DOB': '1977-05-10', 'wins': '0', 'team': 'BMW Sauber'}},\n",
       " {'Heikki Kovalainen': {'DOB': '1981-10-19', 'wins': '0', 'team': 'McLaren'}},\n",
       " {'Mark Webber': {'DOB': '1976-08-27', 'wins': '0', 'team': 'Red Bull'}},\n",
       " {'Fernando Alonso': {'DOB': '1981-07-29', 'wins': '0', 'team': 'Renault'}},\n",
       " {'Jarno Trulli': {'DOB': '1974-07-13', 'wins': '0', 'team': 'Toyota'}},\n",
       " {'Nico Rosberg': {'DOB': '1985-06-27', 'wins': '0', 'team': 'Williams'}},\n",
       " {'Kazuki Nakajima': {'DOB': '1985-01-11', 'wins': '0', 'team': 'Williams'}},\n",
       " {'Jenson Button': {'DOB': '1980-01-19', 'wins': '0', 'team': 'Honda'}},\n",
       " {'Sébastien Bourdais': {'DOB': '1979-02-28',\n",
       "   'wins': '0',\n",
       "   'team': 'Toro Rosso'}},\n",
       " {'David Coulthard': {'DOB': '1971-03-27', 'wins': '0', 'team': 'Red Bull'}},\n",
       " {'Timo Glock': {'DOB': '1982-03-18', 'wins': '0', 'team': 'Toyota'}},\n",
       " {'Giancarlo Fisichella': {'DOB': '1973-01-14',\n",
       "   'wins': '0',\n",
       "   'team': 'Force India'}},\n",
       " {'Rubens Barrichello': {'DOB': '1972-05-23', 'wins': '0', 'team': 'Honda'}},\n",
       " {'Nelson Piquet Jr.': {'DOB': '1985-07-25', 'wins': '0', 'team': 'Renault'}},\n",
       " {'Takuma Sato': {'DOB': '1977-01-28', 'wins': '0', 'team': 'Super Aguri'}},\n",
       " {'Anthony Davidson': {'DOB': '1979-04-18',\n",
       "   'wins': '0',\n",
       "   'team': 'Super Aguri'}},\n",
       " {'Adrian Sutil': {'DOB': '1983-01-11', 'wins': '0', 'team': 'Force India'}},\n",
       " {'Sebastian Vettel': {'DOB': '1987-07-03',\n",
       "   'wins': '0',\n",
       "   'team': 'Toro Rosso'}}]"
      ]
     },
     "execution_count": 29,
     "metadata": {},
     "output_type": "execute_result"
    }
   ],
   "source": [
    "def get_driver_info(data):\n",
    "    new_driver_data = []\n",
    "    for driver in data:\n",
    "        driver_dict = {}\n",
    "        full_name = f\"{driver['Driver']['givenName']} {driver['Driver']['familyName']}\"\n",
    "        driver_dict[full_name] = {\n",
    "            'DOB': driver['Driver']['dateOfBirth'],\n",
    "            'wins': driver['wins'],\n",
    "            'team': driver['Constructors'][0]['name']\n",
    "        }\n",
    "        new_driver_data.append(driver_dict)\n",
    "    return new_driver_data\n",
    "\n",
    "get_driver_info(driver_standings_data)"
   ]
  },
  {
   "attachments": {},
   "cell_type": "markdown",
   "id": "1a713b13",
   "metadata": {},
   "source": [
    "### Making a more flexible function to handle different years and rounds"
   ]
  },
  {
   "cell_type": "code",
   "execution_count": null,
   "id": "e9866280",
   "metadata": {},
   "outputs": [],
   "source": [
    "def get_driver_info_year_rnd(year, round):\n",
    "    url = f'https://ergast.com/api/f1/{year}/{round}/driverStandings.json'\n",
    "    response = requests.get(url)\n",
    "    if response.ok:\n",
    "        standings_data = response.json()['MRData']['StandingsTable']['StandingsLists'][0]['DriverStandings']\n",
    "        get_driver_info(standings_data)\n",
    "        return get_driver_info(standings_data)\n",
    "    else:\n",
    "        return 'That year or round does not exist.'\n",
    "\n",
    "\n",
    "get_driver_info_year_rnd(2021, 8)"
   ]
  },
  {
   "cell_type": "markdown",
   "id": "6d546014",
   "metadata": {},
   "source": [
    "# <strong>Homework</strong>\n",
    "check out this Pokemon API https://pokeapi.co/\n",
    "Use the requests package to connect to this API and get and store data for 5 different pokemon.\n",
    "Get the pokemons: name, atleast one ability's name, base_experience, and the URL for its sprite (an image that shows up on screen) for the 'front_shiny', attack base_stat, hp base_stat, defense base_stat"
   ]
  },
  {
   "cell_type": "code",
   "execution_count": 67,
   "id": "5a9081e3",
   "metadata": {},
   "outputs": [
    {
     "data": {
      "text/plain": [
       "{'Mewtwo': {'Ability': 'pressure',\n",
       "  'Base_Exp': 340,\n",
       "  'Sprite_url': 'https://raw.githubusercontent.com/PokeAPI/sprites/master/sprites/pokemon/shiny/150.png',\n",
       "  'Attack_base_stat': 110,\n",
       "  'HP_base_stat': 106,\n",
       "  'Defense_base_stat': 90}}"
      ]
     },
     "execution_count": 67,
     "metadata": {},
     "output_type": "execute_result"
    }
   ],
   "source": [
    "def get_pokemon_info(name):\n",
    "    url = f'https://pokeapi.co/api/v2/pokemon/{name.lower()}'\n",
    "    # added the .lower() in case someone capitalizes the name\n",
    "    response = requests.get(url)\n",
    "    # check to see if the url works\n",
    "    if response.ok:\n",
    "        # assigning dictionary to variable\n",
    "        pokemon_data = response.json()\n",
    "        # creating new dictionary to populate with info\n",
    "        pokemon_info_dict = {}\n",
    "        # adding name to key and then the value will be another dictionary with the necessary info\n",
    "        pokemon_info_dict[name.title()] = {\n",
    "            'Ability': pokemon_data['abilities'][0]['ability']['name'],\n",
    "            'Base_Exp': pokemon_data['base_experience'],\n",
    "            'Sprite_url': pokemon_data['sprites']['front_shiny'],\n",
    "            'Attack_base_stat': pokemon_data['stats'][1]['base_stat'],\n",
    "            'HP_base_stat': pokemon_data['stats'][0]['base_stat'],\n",
    "            'Defense_base_stat': pokemon_data['stats'][2]['base_stat']\n",
    "        }\n",
    "        return pokemon_info_dict  \n",
    "    # if url doesn't work then it's because the pokemon name is incorrect\n",
    "    else:\n",
    "        return 'Pokemon does not exist.'\n",
    "\n",
    "\n",
    "get_pokemon_info('bulbasaur')\n",
    "get_pokemon_info('Gengar')\n",
    "get_pokemon_info('dragonite')\n",
    "get_pokemon_info('mew')\n",
    "get_pokemon_info('mewtwo')"
   ]
  }
 ],
 "metadata": {
  "kernelspec": {
   "display_name": "Python 3",
   "language": "python",
   "name": "python3"
  },
  "language_info": {
   "codemirror_mode": {
    "name": "ipython",
    "version": 3
   },
   "file_extension": ".py",
   "mimetype": "text/x-python",
   "name": "python",
   "nbconvert_exporter": "python",
   "pygments_lexer": "ipython3",
   "version": "3.10.9"
  },
  "vscode": {
   "interpreter": {
    "hash": "b90313491b8fcf5277c814ee9f8b8bef470f56b3ea82ad801adfe9786958121d"
   }
  }
 },
 "nbformat": 4,
 "nbformat_minor": 5
}
